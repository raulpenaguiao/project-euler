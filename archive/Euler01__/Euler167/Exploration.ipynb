{
 "cells": [
  {
   "cell_type": "code",
   "execution_count": 20,
   "id": "2e122241",
   "metadata": {},
   "outputs": [
    {
     "data": {
      "text/plain": [
       "[2,\n",
       " 21,\n",
       " 23,\n",
       " 25,\n",
       " 27,\n",
       " 29,\n",
       " 31,\n",
       " 33,\n",
       " 35,\n",
       " 37,\n",
       " 39,\n",
       " 41,\n",
       " 43,\n",
       " 44,\n",
       " 45,\n",
       " 47,\n",
       " 49,\n",
       " 51,\n",
       " 53,\n",
       " 55,\n",
       " 57,\n",
       " 59,\n",
       " 61,\n",
       " 63,\n",
       " 67,\n",
       " 71]"
      ]
     },
     "execution_count": 20,
     "metadata": {},
     "output_type": "execute_result"
    }
   ],
   "source": [
    "def UlamSeq(N, n1, n2):\n",
    "    seq = [n1, n2]\n",
    "    vis = {n1+n2:1}\n",
    "    for _ in range(N-1):\n",
    "        viskeys = [k for k in vis.keys()]\n",
    "        viskeys.sort()\n",
    "        i = 0\n",
    "        #binary search here may make more sense\n",
    "        while i < len(viskeys) and viskeys[i] <= n2:\n",
    "            i += 1\n",
    "        for j in range(i):\n",
    "            del vis[viskeys[j]]\n",
    "        while i < len(viskeys) and vis[viskeys[i]] > 1:\n",
    "            i += 1\n",
    "        n2 = viskeys[i]\n",
    "        for b in seq:\n",
    "            if b + n2 in vis:\n",
    "                vis[b+n2] += 1\n",
    "            else:\n",
    "                vis[b+n2] = 1\n",
    "        seq.append(n2)\n",
    "    return seq\n",
    "\n",
    "UlamSeq(25, 2, 21)"
   ]
  }
 ],
 "metadata": {
  "kernelspec": {
   "display_name": "Python 3",
   "language": "python",
   "name": "python3"
  },
  "language_info": {
   "codemirror_mode": {
    "name": "ipython",
    "version": 3
   },
   "file_extension": ".py",
   "mimetype": "text/x-python",
   "name": "python",
   "nbconvert_exporter": "python",
   "pygments_lexer": "ipython3",
   "version": "3.8.10"
  }
 },
 "nbformat": 4,
 "nbformat_minor": 5
}
